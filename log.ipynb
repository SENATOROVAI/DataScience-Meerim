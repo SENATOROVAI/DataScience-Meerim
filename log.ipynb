{
 "cells": [
  {
   "cell_type": "markdown",
   "metadata": {},
   "source": [
    "Модуль посвящён 1 уроку."
   ]
  },
  {
   "cell_type": "markdown",
   "metadata": {},
   "source": [
    "12.10.24\n",
    "1. Определили цель изучения математики;\n",
    "2. Проверили знание школьной математики;\n",
    "3. Скачала pypy, протестировала работу cpython и pypy."
   ]
  },
  {
   "cell_type": "code",
   "execution_count": null,
   "metadata": {
    "vscode": {
     "languageId": "plaintext"
    }
   },
   "outputs": [],
   "source": [
    "Модуль посвящён 2 уроку.\n",
    "\n",
    "13.10.24\n",
    "Тема: Математическая идукция\n",
    "1.База индукции;\n",
    "2.Индукционный переход;\n"
   ]
  }
 ],
 "metadata": {
  "language_info": {
   "name": "python"
  }
 },
 "nbformat": 4,
 "nbformat_minor": 2
}
