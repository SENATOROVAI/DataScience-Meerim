{
 "cells": [
  {
   "cell_type": "markdown",
   "metadata": {},
   "source": [
    "Модуль посвящён 1 уроку.\n",
    "12.10.24\n",
    "1. Определили цель изучения математики;\n",
    "2. Проверили знание школьной математики;\n",
    "3. Скачала pypy, протестировала работу cpython и pypy."
   ]
  }
 ],
 "metadata": {
  "language_info": {
   "name": "python"
  }
 },
 "nbformat": 4,
 "nbformat_minor": 2
}
